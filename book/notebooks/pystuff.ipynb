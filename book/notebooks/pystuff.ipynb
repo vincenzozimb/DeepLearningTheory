{
 "cells": [
  {
   "cell_type": "markdown",
   "metadata": {},
   "source": [
    "# Miscellaneous about python"
   ]
  },
  {
   "cell_type": "markdown",
   "metadata": {},
   "source": [
    "In this notebook, I include various useful stuff about python programming."
   ]
  },
  {
   "cell_type": "markdown",
   "metadata": {},
   "source": [
    "## Object oriented programming: classes "
   ]
  },
  {
   "cell_type": "markdown",
   "metadata": {},
   "source": [
    "#### Class methods"
   ]
  },
  {
   "cell_type": "markdown",
   "metadata": {},
   "source": [
    "They are introduced by the decorator `@classmethod` and they receive as a first argument the class itself (conventionally denoted by `cls`) and not the instance of the class (conventionally named `self`). They are needed to modify class-defined attributes.\n",
    "\n",
    "For example, suppose we have a `Date` class describing a date, given by $3$ integers (day, month, year), but we have data coming as strings in the format `\"dd-mm-yyyy\"`. In this case a class method can be useful as below.\n",
    "\n",
    "Note that `cls` is the class itself, and not one of its instances. As a consequence, if a subclass is created, the class method is automatically inherited."
   ]
  },
  {
   "cell_type": "markdown",
   "metadata": {},
   "source": [
    "#### Static methods"
   ]
  },
  {
   "cell_type": "markdown",
   "metadata": {},
   "source": [
    "They are methods that are logically bound to the class but that do not need instantiation of it. They are normal functions that can in principle be defined outside the class but they are put inside as static methods for logical reasons.\n",
    "\n",
    "They do not require mandatory parameters (like class or instance methods), and they do not have access to what the class is. As already said, it's basically just a function, called syntactically like a method, but without access to the object and its internals (fields and other methods)."
   ]
  },
  {
   "cell_type": "code",
   "execution_count": 35,
   "metadata": {},
   "outputs": [
    {
     "name": "stdout",
     "output_type": "stream",
     "text": [
      "Date('29', '2', '2000')\n",
      "Date('11', '11', '2001')\n",
      "True\n",
      "False\n"
     ]
    }
   ],
   "source": [
    "class Date():\n",
    "    \"\"\" A class describing a date\"\"\"\n",
    "\n",
    "    def __init__(self, day, month, year):\n",
    "        self.day = day\n",
    "        self.month = month\n",
    "        self.year = year\n",
    "\n",
    "    # See below for an explanation of this\n",
    "    def __repr__(self):\n",
    "        return f\"Date('{self.day}', '{self.month}', '{self.year}')\"\n",
    "    \n",
    "    @classmethod\n",
    "    def string_to_date(cls, date_as_string):\n",
    "        day, month, year = map(int, date_as_string.split('-'))\n",
    "        date = cls(day, month, year)\n",
    "        return date\n",
    "    \n",
    "    @staticmethod\n",
    "    def is_date_as_string_valid(date_as_string):\n",
    "        day, month, year = map(int, date_as_string.split('-'))\n",
    "        return day <= 31 and month <= 12 and year <= 3999\n",
    "\n",
    "\n",
    "d1 = Date(29, 2, 2000)\n",
    "d2 = Date.string_to_date(\"11-11-2001\")\n",
    "\n",
    "print(d1)\n",
    "print(d2)\n",
    "\n",
    "print(Date.is_date_as_string_valid(\"21-10-2022\"))\n",
    "print(Date.is_date_as_string_valid(\"35-14-2022\"))"
   ]
  },
  {
   "cell_type": "markdown",
   "metadata": {},
   "source": [
    "#### Special methods"
   ]
  },
  {
   "cell_type": "markdown",
   "metadata": {},
   "source": [
    "They are methods defined by a special syntax (with two undersores before and after the method name).\n",
    "\n",
    "- The `__init__` special method is called automatically every time a class instance (an actual object) is created, and ir is needed to initialize the values of the instance attributes.\n",
    "- The `__repr__` special method return the string needed to create the instance and, if it exists, `print(instance)` print that string instead of the adress of the instance.\n",
    "- The `__str__` special method converts the object into a string. If present, the `print` function print that string (it overrides the `__repr__` method in this regard).\n",
    "- If we initialize two instances with the same attributes, python will consider them as different object. The `__eq__` special method return true if the attributes of the two classes are equal. There are also special methods `__le__`, `__ge__`, `__lt__`, `__gt__` (less or equal, greater or equal, less than, greater than).\n",
    "- Other special methods are `__bool__`, `__add__` "
   ]
  },
  {
   "cell_type": "code",
   "execution_count": 49,
   "metadata": {},
   "outputs": [],
   "source": [
    "class Person():\n",
    "    \"\"\" A class describing a person \"\"\"\n",
    "    \n",
    "    # this is a class variables, it is common to all the instances of the class (unless explicitly modified for an example) \n",
    "    animal = \"Human\"\n",
    "    \n",
    "    def __init__(self, name, age, city):\n",
    "        self.name = name\n",
    "        self.age = age\n",
    "        self.city = city\n",
    "\n",
    "    def __repr__(self):\n",
    "        return f\"Person('{self.name}', '{self.age}', '{self.city}')\"\n",
    "\n",
    "    def __str__(self):\n",
    "        return f\"{self.name} from {self.city} is {self.age} years old\"\n",
    "    \n",
    "    def __eq__(self, other):\n",
    "        return self.name == other.name and \\\n",
    "               self.age == other.age and \\\n",
    "               self.city == other.city\n",
    "\n",
    "    # A bit useless in this case, but however.\n",
    "    @classmethod\n",
    "    def change_animal(cls, animal):\n",
    "        cls.animal = animal\n",
    "\n",
    "    def greet(self):\n",
    "        print(f\"Hi! I am {self.name} from {self.city} and I am {self.age} years old.\")\n"
   ]
  },
  {
   "cell_type": "code",
   "execution_count": 50,
   "metadata": {},
   "outputs": [
    {
     "name": "stdout",
     "output_type": "stream",
     "text": [
      "John from London is 45 years old\n",
      "<class '__main__.Person'> <class 'str'>\n",
      "Hi! I am John from London and I am 45 years old.\n"
     ]
    }
   ],
   "source": [
    "p1 = Person(\"John\", 45, \"London\")\n",
    "print(p1)\n",
    "print(type(p1), type(str(p1)))\n",
    "p1.greet()"
   ]
  },
  {
   "cell_type": "code",
   "execution_count": 46,
   "metadata": {},
   "outputs": [
    {
     "data": {
      "text/plain": [
       "True"
      ]
     },
     "execution_count": 46,
     "metadata": {},
     "output_type": "execute_result"
    }
   ],
   "source": [
    "p2 = Person(\"John\", 45, \"London\")\n",
    "p1 == p2 # return true only if the __eq__ method exists."
   ]
  },
  {
   "cell_type": "markdown",
   "metadata": {},
   "source": [
    "### Subclasses"
   ]
  },
  {
   "cell_type": "code",
   "execution_count": 55,
   "metadata": {},
   "outputs": [],
   "source": [
    "class Player(Person):\n",
    "\n",
    "    def __init__(self, name, age, city, level):\n",
    "        super().__init__(name, age, city)  # to call the __init__ method of the parent class. Otherwise the __init__ method of the parent class is overridden. \n",
    "        self.level = level\n",
    "\n",
    "    def greet(self):\n",
    "        return super().greet()\n"
   ]
  },
  {
   "cell_type": "markdown",
   "metadata": {},
   "source": [
    "The `super()` method can be used to call any method of the parent class, not just the `__init__`."
   ]
  },
  {
   "cell_type": "code",
   "execution_count": 60,
   "metadata": {},
   "outputs": [
    {
     "name": "stdout",
     "output_type": "stream",
     "text": [
      "Hi! I am John from London and I am 22 years old.\n"
     ]
    }
   ],
   "source": [
    "pl1 = Player(\"John\", 22, \"London\", 5)\n",
    "pl1.greet()"
   ]
  },
  {
   "cell_type": "markdown",
   "metadata": {},
   "source": [
    "Subclasses also inherit class variables from the parent (if present)."
   ]
  },
  {
   "cell_type": "markdown",
   "metadata": {},
   "source": [
    "#### Multiple inheritance"
   ]
  },
  {
   "cell_type": "markdown",
   "metadata": {},
   "source": [
    "Pay attention to the order of the parent classes, it does matter! It defines the order in which python will look for inheritances, the hierarchy."
   ]
  },
  {
   "cell_type": "code",
   "execution_count": 62,
   "metadata": {},
   "outputs": [],
   "source": [
    "class MyClass(Player, Person):\n",
    "    pass"
   ]
  },
  {
   "cell_type": "markdown",
   "metadata": {},
   "source": [
    "### Private methods"
   ]
  },
  {
   "cell_type": "markdown",
   "metadata": {},
   "source": [
    "They do not actually exists in python (we can nonetheless call them), but a notational convention is adopted to signal that they should not be used manually, outside the object. The convention is to make their name start by an underscore: `_private_method()`. The same notation is adopted to signal private class attributes: `_private_attribute`. "
   ]
  },
  {
   "cell_type": "markdown",
   "metadata": {},
   "source": [
    "### Name manglings"
   ]
  },
  {
   "cell_type": "markdown",
   "metadata": {},
   "source": [
    "More advanced but can be useful for complex/nested call to methods when using classes and subclasses. Inside the classes (but not outside), python reads `__method` as `_classname_method`."
   ]
  }
 ],
 "metadata": {
  "kernelspec": {
   "display_name": "phd-book",
   "language": "python",
   "name": "python3"
  },
  "language_info": {
   "codemirror_mode": {
    "name": "ipython",
    "version": 3
   },
   "file_extension": ".py",
   "mimetype": "text/x-python",
   "name": "python",
   "nbconvert_exporter": "python",
   "pygments_lexer": "ipython3",
   "version": "3.11.10"
  }
 },
 "nbformat": 4,
 "nbformat_minor": 2
}
